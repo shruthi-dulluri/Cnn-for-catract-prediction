{
  "nbformat": 4,
  "nbformat_minor": 0,
  "metadata": {
    "colab": {
      "provenance": [],
      "gpuType": "T4"
    },
    "kernelspec": {
      "name": "python3",
      "display_name": "Python 3"
    },
    "language_info": {
      "name": "python"
    },
    "accelerator": "GPU"
  },
  "cells": [
    {
      "cell_type": "code",
      "execution_count": 1,
      "metadata": {
        "colab": {
          "base_uri": "https://localhost:8080/"
        },
        "id": "mbF-Sd_7CCF6",
        "outputId": "57095259-51a9-4621-a5fe-dc4a44867889"
      },
      "outputs": [
        {
          "output_type": "stream",
          "name": "stdout",
          "text": [
            "Requirement already satisfied: opendatasets in /usr/local/lib/python3.10/dist-packages (0.1.22)\n",
            "Requirement already satisfied: tqdm in /usr/local/lib/python3.10/dist-packages (from opendatasets) (4.66.1)\n",
            "Requirement already satisfied: kaggle in /usr/local/lib/python3.10/dist-packages (from opendatasets) (1.5.16)\n",
            "Requirement already satisfied: click in /usr/local/lib/python3.10/dist-packages (from opendatasets) (8.1.7)\n",
            "Requirement already satisfied: six>=1.10 in /usr/local/lib/python3.10/dist-packages (from kaggle->opendatasets) (1.16.0)\n",
            "Requirement already satisfied: certifi in /usr/local/lib/python3.10/dist-packages (from kaggle->opendatasets) (2023.11.17)\n",
            "Requirement already satisfied: python-dateutil in /usr/local/lib/python3.10/dist-packages (from kaggle->opendatasets) (2.8.2)\n",
            "Requirement already satisfied: requests in /usr/local/lib/python3.10/dist-packages (from kaggle->opendatasets) (2.31.0)\n",
            "Requirement already satisfied: python-slugify in /usr/local/lib/python3.10/dist-packages (from kaggle->opendatasets) (8.0.1)\n",
            "Requirement already satisfied: urllib3 in /usr/local/lib/python3.10/dist-packages (from kaggle->opendatasets) (2.0.7)\n",
            "Requirement already satisfied: bleach in /usr/local/lib/python3.10/dist-packages (from kaggle->opendatasets) (6.1.0)\n",
            "Requirement already satisfied: webencodings in /usr/local/lib/python3.10/dist-packages (from bleach->kaggle->opendatasets) (0.5.1)\n",
            "Requirement already satisfied: text-unidecode>=1.3 in /usr/local/lib/python3.10/dist-packages (from python-slugify->kaggle->opendatasets) (1.3)\n",
            "Requirement already satisfied: charset-normalizer<4,>=2 in /usr/local/lib/python3.10/dist-packages (from requests->kaggle->opendatasets) (3.3.2)\n",
            "Requirement already satisfied: idna<4,>=2.5 in /usr/local/lib/python3.10/dist-packages (from requests->kaggle->opendatasets) (3.6)\n"
          ]
        }
      ],
      "source": [
        "!pip install opendatasets"
      ]
    },
    {
      "cell_type": "code",
      "source": [
        "import opendatasets as od"
      ],
      "metadata": {
        "id": "Ujo8AZ19D0We"
      },
      "execution_count": 2,
      "outputs": []
    },
    {
      "cell_type": "code",
      "source": [
        "od.download('https://www.kaggle.com/datasets/nandanp6/cataract-image-dataset/train')"
      ],
      "metadata": {
        "colab": {
          "base_uri": "https://localhost:8080/"
        },
        "id": "-3_r0wLXD9UP",
        "outputId": "a0e0978e-7891-4d9b-faa5-09992986e0ea"
      },
      "execution_count": 3,
      "outputs": [
        {
          "output_type": "stream",
          "name": "stdout",
          "text": [
            "Skipping, found downloaded files in \"./cataract-image-dataset\" (use force=True to force download)\n"
          ]
        }
      ]
    },
    {
      "cell_type": "code",
      "source": [
        "import os\n",
        "catract=os.listdir('/content/cataract-image-dataset/processed_images/train/cataract')\n",
        "normal=os.listdir('/content/cataract-image-dataset/processed_images/train/normal')\n"
      ],
      "metadata": {
        "id": "z7UnfW4DEbrL"
      },
      "execution_count": 4,
      "outputs": []
    },
    {
      "cell_type": "code",
      "source": [
        "# downloading images\n",
        "catract_images_folder_path='/content/cataract-image-dataset/processed_images/train/cataract'\n",
        "normal_images_folder_path='/content/cataract-image-dataset/processed_images/train/normal'\n",
        "import cv2\n",
        "images=[]\n",
        "labels=[]\n",
        "for image in catract:\n",
        "  img_path= os.path.join(catract_images_folder_path,image)\n",
        "  img=cv2.imread(img_path)\n",
        "  img=cv2.resize(img,(75,75))\n",
        "  img=cv2.cvtColor(img,cv2.COLOR_BGR2RGB)\n",
        "  images.append(img)\n",
        "  labels.append(1)\n",
        "for image in normal:\n",
        "  img_path= os.path.join(normal_images_folder_path,image)\n",
        "  img=cv2.imread(img_path)\n",
        "  img=cv2.resize(img,(75,75))\n",
        "  img=cv2.cvtColor(img,cv2.COLOR_BGR2RGB)\n",
        "  images.append(img)\n",
        "  labels.append(0)"
      ],
      "metadata": {
        "id": "J-chqPhzEtan"
      },
      "execution_count": 5,
      "outputs": []
    },
    {
      "cell_type": "code",
      "source": [],
      "metadata": {
        "id": "uhf0tYnLGfEQ"
      },
      "execution_count": 5,
      "outputs": []
    },
    {
      "cell_type": "code",
      "source": [
        "\n"
      ],
      "metadata": {
        "id": "ek1BVAejGSi6"
      },
      "execution_count": 5,
      "outputs": []
    },
    {
      "cell_type": "code",
      "source": [
        "# downloading images\n"
      ],
      "metadata": {
        "id": "Dw_MFL3fGfu1"
      },
      "execution_count": 6,
      "outputs": []
    },
    {
      "cell_type": "code",
      "source": [
        "len(images)"
      ],
      "metadata": {
        "colab": {
          "base_uri": "https://localhost:8080/"
        },
        "id": "Z52ENQX0G0Mv",
        "outputId": "35fe1370-7ed8-4b23-e0a2-70d49c29f12e"
      },
      "execution_count": 7,
      "outputs": [
        {
          "output_type": "execute_result",
          "data": {
            "text/plain": [
              "491"
            ]
          },
          "metadata": {},
          "execution_count": 7
        }
      ]
    },
    {
      "cell_type": "code",
      "source": [
        "len(catract)"
      ],
      "metadata": {
        "colab": {
          "base_uri": "https://localhost:8080/"
        },
        "id": "qeaMBnb2HJJB",
        "outputId": "d8c5dadb-c8d8-487b-90ed-f7178734067c"
      },
      "execution_count": 8,
      "outputs": [
        {
          "output_type": "execute_result",
          "data": {
            "text/plain": [
              "245"
            ]
          },
          "metadata": {},
          "execution_count": 8
        }
      ]
    },
    {
      "cell_type": "code",
      "source": [
        "len(labels)"
      ],
      "metadata": {
        "colab": {
          "base_uri": "https://localhost:8080/"
        },
        "id": "RCP2MrXrG3bE",
        "outputId": "23900feb-9d48-494b-c81e-c7bbc3b86d8a"
      },
      "execution_count": 9,
      "outputs": [
        {
          "output_type": "execute_result",
          "data": {
            "text/plain": [
              "491"
            ]
          },
          "metadata": {},
          "execution_count": 9
        }
      ]
    },
    {
      "cell_type": "code",
      "source": [
        "len(images)"
      ],
      "metadata": {
        "colab": {
          "base_uri": "https://localhost:8080/"
        },
        "id": "UpHoJStadEnh",
        "outputId": "131ba3a1-18cf-4ee9-f2f1-6f850c6796a4"
      },
      "execution_count": 10,
      "outputs": [
        {
          "output_type": "execute_result",
          "data": {
            "text/plain": [
              "491"
            ]
          },
          "metadata": {},
          "execution_count": 10
        }
      ]
    },
    {
      "cell_type": "code",
      "source": [
        "import numpy as np\n",
        "from sklearn.model_selection import train_test_split\n",
        "X=np.array(images)\n",
        "y=np.array(labels)"
      ],
      "metadata": {
        "id": "mj8SaYUqLcM7"
      },
      "execution_count": 11,
      "outputs": []
    },
    {
      "cell_type": "code",
      "source": [
        "X_train,X_test,y_train,y_test=train_test_split(X,y,test_size=0.2,random_state=101)"
      ],
      "metadata": {
        "id": "mCQuEMYrOa-E"
      },
      "execution_count": 12,
      "outputs": []
    },
    {
      "cell_type": "code",
      "source": [
        "X_train.shape"
      ],
      "metadata": {
        "colab": {
          "base_uri": "https://localhost:8080/"
        },
        "id": "Ejg46gi7O1bk",
        "outputId": "12bd2781-c94c-45d6-c387-f36fbb329cdf"
      },
      "execution_count": 13,
      "outputs": [
        {
          "output_type": "execute_result",
          "data": {
            "text/plain": [
              "(392, 75, 75, 3)"
            ]
          },
          "metadata": {},
          "execution_count": 13
        }
      ]
    },
    {
      "cell_type": "code",
      "source": [
        "X_train=X_train/255.0\n",
        "X_test=X_test/255.0"
      ],
      "metadata": {
        "id": "_jbuZ_n6PF8L"
      },
      "execution_count": 14,
      "outputs": []
    },
    {
      "cell_type": "code",
      "source": [
        "from tensorflow.keras.models import Sequential\n",
        "from tensorflow.keras.layers import Dense,Conv2D,MaxPooling2D,Flatten"
      ],
      "metadata": {
        "id": "IrAqt34RPPhE"
      },
      "execution_count": 15,
      "outputs": []
    },
    {
      "cell_type": "code",
      "source": [
        "model=Sequential()"
      ],
      "metadata": {
        "id": "GurlwwNAPkPz"
      },
      "execution_count": 16,
      "outputs": []
    },
    {
      "cell_type": "code",
      "source": [
        "model.add(Conv2D(32,(3,3),activation='relu',input_shape=(75,75,3)))"
      ],
      "metadata": {
        "id": "JUav_iGsPooL"
      },
      "execution_count": 17,
      "outputs": []
    },
    {
      "cell_type": "code",
      "source": [
        "model.add(MaxPooling2D(2,2))"
      ],
      "metadata": {
        "id": "3In16_21QCpe"
      },
      "execution_count": 18,
      "outputs": []
    },
    {
      "cell_type": "code",
      "source": [
        "model.add(Conv2D(32,(3,3),activation='relu'))\n",
        "model.add(MaxPooling2D(2,2))\n"
      ],
      "metadata": {
        "id": "nVSnuw_0QcSj"
      },
      "execution_count": 19,
      "outputs": []
    },
    {
      "cell_type": "code",
      "source": [
        "model.add(Conv2D(64,(3,3),activation='relu'))\n",
        "model.add(MaxPooling2D(2,2))"
      ],
      "metadata": {
        "id": "oiFAtUbxQiqI"
      },
      "execution_count": 20,
      "outputs": []
    },
    {
      "cell_type": "code",
      "source": [
        "model.add(Flatten())"
      ],
      "metadata": {
        "id": "EPSZcYdlQmlo"
      },
      "execution_count": 21,
      "outputs": []
    },
    {
      "cell_type": "code",
      "source": [
        "model.add(Dense(14,activation='relu'))\n",
        "model.add(Dense(20,activation='relu'))\n",
        "model.add(Dense(1,activation='sigmoid'))"
      ],
      "metadata": {
        "id": "jIJI8Zr7QrkC"
      },
      "execution_count": 22,
      "outputs": []
    },
    {
      "cell_type": "code",
      "source": [
        "model.compile(optimizer='adam',loss='binary_crossentropy',metrics=['accuracy'])"
      ],
      "metadata": {
        "id": "pH1J9kefQ71_"
      },
      "execution_count": 23,
      "outputs": []
    },
    {
      "cell_type": "code",
      "source": [
        "model.fit(X_train,y_train,epochs=20,batch_size=10,validation_data=(X_test,y_test))\n"
      ],
      "metadata": {
        "colab": {
          "base_uri": "https://localhost:8080/"
        },
        "id": "RAsnuwANRK62",
        "outputId": "91826c83-a152-403a-89f1-15a38a049ab1"
      },
      "execution_count": 24,
      "outputs": [
        {
          "output_type": "stream",
          "name": "stdout",
          "text": [
            "Epoch 1/20\n",
            "40/40 [==============================] - 10s 72ms/step - loss: 0.6964 - accuracy: 0.4898 - val_loss: 0.6907 - val_accuracy: 0.6364\n",
            "Epoch 2/20\n",
            "40/40 [==============================] - 1s 22ms/step - loss: 0.6315 - accuracy: 0.6709 - val_loss: 0.5417 - val_accuracy: 0.7374\n",
            "Epoch 3/20\n",
            "40/40 [==============================] - 1s 24ms/step - loss: 0.5136 - accuracy: 0.7602 - val_loss: 0.4889 - val_accuracy: 0.7778\n",
            "Epoch 4/20\n",
            "40/40 [==============================] - 1s 15ms/step - loss: 0.3860 - accuracy: 0.8469 - val_loss: 0.5066 - val_accuracy: 0.8081\n",
            "Epoch 5/20\n",
            "40/40 [==============================] - 1s 14ms/step - loss: 0.3360 - accuracy: 0.8699 - val_loss: 0.4174 - val_accuracy: 0.8687\n",
            "Epoch 6/20\n",
            "40/40 [==============================] - 1s 16ms/step - loss: 0.2665 - accuracy: 0.8980 - val_loss: 0.5052 - val_accuracy: 0.8485\n",
            "Epoch 7/20\n",
            "40/40 [==============================] - 1s 13ms/step - loss: 0.2710 - accuracy: 0.8827 - val_loss: 0.4878 - val_accuracy: 0.8182\n",
            "Epoch 8/20\n",
            "40/40 [==============================] - 0s 12ms/step - loss: 0.2144 - accuracy: 0.9133 - val_loss: 0.5370 - val_accuracy: 0.7273\n",
            "Epoch 9/20\n",
            "40/40 [==============================] - 1s 13ms/step - loss: 0.1868 - accuracy: 0.9184 - val_loss: 0.5343 - val_accuracy: 0.8182\n",
            "Epoch 10/20\n",
            "40/40 [==============================] - 0s 10ms/step - loss: 0.1810 - accuracy: 0.9311 - val_loss: 0.4313 - val_accuracy: 0.8485\n",
            "Epoch 11/20\n",
            "40/40 [==============================] - 1s 18ms/step - loss: 0.1318 - accuracy: 0.9439 - val_loss: 0.4716 - val_accuracy: 0.8788\n",
            "Epoch 12/20\n",
            "40/40 [==============================] - 1s 13ms/step - loss: 0.1406 - accuracy: 0.9541 - val_loss: 0.4702 - val_accuracy: 0.8687\n",
            "Epoch 13/20\n",
            "40/40 [==============================] - 0s 11ms/step - loss: 0.0901 - accuracy: 0.9643 - val_loss: 0.5338 - val_accuracy: 0.8788\n",
            "Epoch 14/20\n",
            "40/40 [==============================] - 0s 8ms/step - loss: 0.0704 - accuracy: 0.9796 - val_loss: 0.5849 - val_accuracy: 0.8788\n",
            "Epoch 15/20\n",
            "40/40 [==============================] - 0s 7ms/step - loss: 0.0578 - accuracy: 0.9796 - val_loss: 0.5322 - val_accuracy: 0.8889\n",
            "Epoch 16/20\n",
            "40/40 [==============================] - 0s 6ms/step - loss: 0.0769 - accuracy: 0.9719 - val_loss: 0.5881 - val_accuracy: 0.8788\n",
            "Epoch 17/20\n",
            "40/40 [==============================] - 0s 7ms/step - loss: 0.0419 - accuracy: 0.9821 - val_loss: 0.6301 - val_accuracy: 0.8990\n",
            "Epoch 18/20\n",
            "40/40 [==============================] - 0s 6ms/step - loss: 0.0274 - accuracy: 0.9923 - val_loss: 0.6958 - val_accuracy: 0.8889\n",
            "Epoch 19/20\n",
            "40/40 [==============================] - 0s 8ms/step - loss: 0.0137 - accuracy: 0.9974 - val_loss: 0.8189 - val_accuracy: 0.8990\n",
            "Epoch 20/20\n",
            "40/40 [==============================] - 0s 7ms/step - loss: 0.0241 - accuracy: 0.9974 - val_loss: 0.7005 - val_accuracy: 0.8990\n"
          ]
        },
        {
          "output_type": "execute_result",
          "data": {
            "text/plain": [
              "<keras.src.callbacks.History at 0x7a63b0387220>"
            ]
          },
          "metadata": {},
          "execution_count": 24
        }
      ]
    },
    {
      "cell_type": "code",
      "source": [
        "img_path='/content/cataract-image-dataset/processed_images/train/cataract/image_1.png'\n",
        "\n",
        "img=cv2.imread(img_path)\n",
        "img=cv2.resize(img,(75,75))\n",
        "img=cv2.cvtColor(img,cv2.COLOR_BGR2RGB)\n",
        "image=np.expand_dims(img,axis=0)\n",
        "image=image/255.0\n",
        "pred=model.predict(image)"
      ],
      "metadata": {
        "colab": {
          "base_uri": "https://localhost:8080/"
        },
        "id": "cZqIOt8aRkeV",
        "outputId": "2c1eddba-7ed4-420e-f8e0-8edf8b70c30e"
      },
      "execution_count": 35,
      "outputs": [
        {
          "output_type": "stream",
          "name": "stdout",
          "text": [
            "1/1 [==============================] - 0s 30ms/step\n"
          ]
        }
      ]
    },
    {
      "cell_type": "code",
      "source": [
        "if pred[0][0] >= 0.5:\n",
        "  print(\"1 => positive => catract detected\")\n",
        "else:\n",
        "  print(\"0 => negative => cractract not detected\")"
      ],
      "metadata": {
        "colab": {
          "base_uri": "https://localhost:8080/"
        },
        "id": "IDoEGALnWrUI",
        "outputId": "a2e098c0-3850-45bf-d81b-cde55dbd6bdf"
      },
      "execution_count": 36,
      "outputs": [
        {
          "output_type": "stream",
          "name": "stdout",
          "text": [
            "1 => positive => catract detected\n"
          ]
        }
      ]
    },
    {
      "cell_type": "code",
      "source": [
        "pred\n"
      ],
      "metadata": {
        "colab": {
          "base_uri": "https://localhost:8080/"
        },
        "id": "wh-7bcH4X8Nv",
        "outputId": "742810b7-85c2-4990-e3db-61cc260d9011"
      },
      "execution_count": 37,
      "outputs": [
        {
          "output_type": "execute_result",
          "data": {
            "text/plain": [
              "array([[0.9974337]], dtype=float32)"
            ]
          },
          "metadata": {},
          "execution_count": 37
        }
      ]
    },
    {
      "cell_type": "code",
      "source": [
        "image.shape\n"
      ],
      "metadata": {
        "colab": {
          "base_uri": "https://localhost:8080/"
        },
        "id": "Y5nJIj2JYPn4",
        "outputId": "00213995-504e-41c5-bbdc-5bfa2407ef4e"
      },
      "execution_count": 38,
      "outputs": [
        {
          "output_type": "execute_result",
          "data": {
            "text/plain": [
              "(1, 75, 75, 3)"
            ]
          },
          "metadata": {},
          "execution_count": 38
        }
      ]
    },
    {
      "cell_type": "code",
      "source": [
        "import matplotlib.pyplot as plt"
      ],
      "metadata": {
        "id": "MP_md8NyZzl5"
      },
      "execution_count": 30,
      "outputs": []
    },
    {
      "cell_type": "code",
      "source": [
        "plt.imshow(img)"
      ],
      "metadata": {
        "colab": {
          "base_uri": "https://localhost:8080/",
          "height": 450
        },
        "id": "tV36_82JZ3-L",
        "outputId": "0a38ba62-ada1-4fdf-9fdf-cfee709f4d42"
      },
      "execution_count": 40,
      "outputs": [
        {
          "output_type": "execute_result",
          "data": {
            "text/plain": [
              "<matplotlib.image.AxesImage at 0x7a63103b74f0>"
            ]
          },
          "metadata": {},
          "execution_count": 40
        },
        {
          "output_type": "display_data",
          "data": {
            "text/plain": [
              "<Figure size 640x480 with 1 Axes>"
            ],
            "image/png": "[encoded data removed]"
          },
          "metadata": {}
        }
      ]
    }
  ]
}